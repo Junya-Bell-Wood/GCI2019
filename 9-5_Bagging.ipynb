{
 "cells": [
  {
   "cell_type": "code",
   "execution_count": 19,
   "metadata": {},
   "outputs": [],
   "source": [
    "import pandas as pd\n",
    "from sklearn.datasets import load_iris\n",
    "from sklearn.model_selection import train_test_split\n",
    "from sklearn.neighbors import KNeighborsClassifier\n",
    "from sklearn.ensemble import BaggingClassifier\n",
    "from sklearn.metrics import accuracy_score"
   ]
  },
  {
   "cell_type": "code",
   "execution_count": 20,
   "metadata": {},
   "outputs": [],
   "source": [
    "data = load_iris()\n",
    "X = pd.DataFrame(data.data, columns=data.feature_names) # 説明変数\n",
    "y = pd.Series(data.target) # 目的変数"
   ]
  },
  {
   "cell_type": "code",
   "execution_count": 21,
   "metadata": {},
   "outputs": [],
   "source": [
    "X_train, X_val, y_train, y_val = train_test_split(X, y, test_size=0.2, random_state=0)"
   ]
  },
  {
   "cell_type": "code",
   "execution_count": 31,
   "metadata": {},
   "outputs": [
    {
     "name": "stdout",
     "output_type": "stream",
     "text": [
      "bagging_acc: 1.000000\n"
     ]
    }
   ],
   "source": [
    "# 基準となるモデルをkNNモデルとする。\n",
    "base_clf = KNeighborsClassifier()\n",
    "#Baggingのモデルを作る\n",
    "clf = BaggingClassifier(base_estimator=base_clf,\n",
    "                        random_state=0, \n",
    "                        n_jobs=-1)\n",
    "\n",
    "#Baggingのモデルで学習して精度を測定\n",
    "clf.fit(X_train, y_train)\n",
    "bc_pred = clf.predict(X_val)\n",
    "bc_acc = accuracy_score(y_val,bc_pred)\n",
    "print('bagging_acc: {:.6f}'.format(bc_acc))"
   ]
  },
  {
   "cell_type": "code",
   "execution_count": 30,
   "metadata": {},
   "outputs": [
    {
     "name": "stdout",
     "output_type": "stream",
     "text": [
      "kNN_acc: 0.966667\n"
     ]
    }
   ],
   "source": [
    "# kNNモデルを作る\n",
    "knn_clf = KNeighborsClassifier()\n",
    "\n",
    "#kNNのモデルで学習して精度を測定\n",
    "knn_clf.fit(X_train, y_train)\n",
    "knn_pred = knn_clf.predict(X_val)\n",
    "knn_acc = accuracy_score(y_val,knn_pred)\n",
    "print('kNN_acc: {:.6f}'.format(knn_acc))"
   ]
  },
  {
   "cell_type": "code",
   "execution_count": null,
   "metadata": {},
   "outputs": [],
   "source": []
  },
  {
   "cell_type": "code",
   "execution_count": null,
   "metadata": {},
   "outputs": [],
   "source": []
  }
 ],
 "metadata": {
  "kernelspec": {
   "display_name": "Python 3",
   "language": "python",
   "name": "python3"
  },
  "language_info": {
   "codemirror_mode": {
    "name": "ipython",
    "version": 3
   },
   "file_extension": ".py",
   "mimetype": "text/x-python",
   "name": "python",
   "nbconvert_exporter": "python",
   "pygments_lexer": "ipython3",
   "version": "3.6.4"
  }
 },
 "nbformat": 4,
 "nbformat_minor": 2
}
